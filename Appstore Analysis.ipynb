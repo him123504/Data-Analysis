{
 "cells": [
  {
   "cell_type": "markdown",
   "metadata": {
    "_uuid": "21dfa55f606d49be94a0183f6a10e952891541da"
   },
   "source": [
    "# Project Scope\n",
    "\n",
    "- Understanding of Data\n",
    "- Price Distribution based on Genre\n",
    "- Price Distribution of Apps (top 5 Genre )\n",
    "- Do they launch paid apps only in gaming category ?\n",
    "- Are paid apps good enough ?\n",
    "- As the size of the app increases do they get pricier ?\n",
    "- Categorization of Apps based on Genre\n",
    "- Categorization of Apps based on Genre with Free and Paid Split\n",
    "- Rating (Upgrade/degrade) based on version update\n",
    "\n"
   ]
  },
  {
   "cell_type": "markdown",
   "metadata": {
    "_uuid": "00313784f7cbae76908bcbdee2cc27093c1ad2c4"
   },
   "source": [
    "# 1- Understanding of Data"
   ]
  },
  {
   "cell_type": "code",
   "execution_count": null,
   "metadata": {
    "_uuid": "045e04fa5782f7dc09fc287d28a41bc5aac1070a",
    "collapsed": true
   },
   "outputs": [],
   "source": [
    "import pandas as pd\n",
    "apple = pd.read_csv('../input/AppleStore.csv')"
   ]
  },
  {
   "cell_type": "code",
   "execution_count": null,
   "metadata": {
    "_uuid": "2ff1c28f99a6c85b54f89b90d3258de2ea10422d",
    "collapsed": true
   },
   "outputs": [],
   "source": [
    "apple.columns = ['XX','id','apps','size_bytes','currency','price','rating_count_tot','rating_count_ver','user_rating','user_rating_ver','ver','cont_rating','prime_genre','sup_devices','ipadSC','lang_support','vpp_lic']"
   ]
  },
  {
   "cell_type": "code",
   "execution_count": null,
   "metadata": {
    "_uuid": "7221a9218c00613186482471d549019b88d738f0",
    "collapsed": true
   },
   "outputs": [],
   "source": [
    "apple.drop(labels = ['XX'], axis = 1, inplace = True)\n",
    "apple.head(5)"
   ]
  },
  {
   "cell_type": "code",
   "execution_count": null,
   "metadata": {
    "_uuid": "595a06a32cb57fbe9979e3d626226a4b5392098e",
    "collapsed": true
   },
   "outputs": [],
   "source": [
    "import matplotlib.pyplot as plt\n",
    "\n",
    "x = apple['price']\n",
    "\n",
    "apple.price.value_counts()\n",
    "\n",
    "df = apple[apple['price'] != 0]\n",
    "\n"
   ]
  },
  {
   "cell_type": "code",
   "execution_count": null,
   "metadata": {
    "_uuid": "25fc1baa78a40fc47d783ed651a737c40ca36a41",
    "collapsed": true
   },
   "outputs": [],
   "source": [
    "df.head(10)"
   ]
  },
  {
   "cell_type": "code",
   "execution_count": null,
   "metadata": {
    "_uuid": "48d8f10f81da6c92b4f484f4cdd6651d29974759",
    "collapsed": true,
    "scrolled": false
   },
   "outputs": [],
   "source": [
    "\n",
    "\n",
    "plt.figure(figsize = (15,10))\n",
    "plt.style.use(\"fivethirtyeight\")\n",
    "dfa = df[df['price'] < 49.99]\n",
    "plt.xlabel('Price($)')\n",
    "dfa.price.plot(kind = 'hist',log = True)"
   ]
  },
  {
   "cell_type": "markdown",
   "metadata": {
    "_uuid": "cfc427d414f7be87ec8e38bb8290f21f8b610e44"
   },
   "source": [
    "# Intuition : \n",
    "\n",
    "Most apps with maxx price < 49.99 lie in the $(0-5) range, as the price of the apps increase the frequency count decrease, as is evident from the histogram.\n",
    "\n",
    "As the price increases the frequency count decreases which indicates that ideally price should be lower or equal to $30, after that, the Frequency Count decreases exponentially\n"
   ]
  },
  {
   "cell_type": "markdown",
   "metadata": {
    "_uuid": "b2ddb26d776cd0c4d6b6b4fd092902260fde78ce"
   },
   "source": [
    "# 2 - Price Distribution based on Category"
   ]
  },
  {
   "cell_type": "code",
   "execution_count": null,
   "metadata": {
    "_uuid": "fe5ddc1daf7ab6547f565150ff60757803bee4bc",
    "collapsed": true,
    "scrolled": false
   },
   "outputs": [],
   "source": [
    "plt.figure(figsize = (25,15))\n",
    "import seaborn as sns\n",
    "sns.stripplot(data = dfa,y = 'price', x = 'prime_genre')"
   ]
  },
  {
   "cell_type": "markdown",
   "metadata": {
    "_uuid": "8cc4b51cd1cc4b669d0e57b582ccd3f82ac278f9"
   },
   "source": [
    "# Intuition :\n",
    "\n",
    "With threshhold of $30, the most highly priced apps are in the following Genres :\n",
    "- Games\n",
    "- Reference\n",
    "- Music\n",
    "- Productivity\n",
    "- Medical"
   ]
  },
  {
   "cell_type": "markdown",
   "metadata": {
    "_uuid": "e335cd9a01b506c828f2235054d614b8b598b3a4"
   },
   "source": [
    "# 3 - Price Distribution of Apps - Top 5 Categories"
   ]
  },
  {
   "cell_type": "code",
   "execution_count": null,
   "metadata": {
    "_uuid": "06162f9d74adca63903d914dc88f2fdb11295674",
    "collapsed": true
   },
   "outputs": [],
   "source": [
    "dfa.prime_genre.value_counts()"
   ]
  },
  {
   "cell_type": "code",
   "execution_count": null,
   "metadata": {
    "_uuid": "b1eba0856f9fe2d7553571802d0a3f873da7a837",
    "collapsed": true
   },
   "outputs": [],
   "source": [
    "df_games = dfa[dfa['prime_genre'] == 'Games']\n",
    "df_edu = dfa[dfa['prime_genre'] == 'Education']\n",
    "df_pv = dfa[dfa['prime_genre'] == 'Photo & Video']\n",
    "df_ut = dfa[dfa['prime_genre'] == 'Utilities']\n",
    "df_hf = dfa[dfa['prime_genre'] == 'Productivity']"
   ]
  },
  {
   "cell_type": "code",
   "execution_count": null,
   "metadata": {
    "_uuid": "79fef110e8749037113bd58bef91d9fcc331016e",
    "collapsed": true,
    "scrolled": false
   },
   "outputs": [],
   "source": [
    "plt.figure(figsize = (15,15))\n",
    "yrange = [0,30]\n",
    "\n",
    "# add colors later\n",
    "# add labels later\n",
    "\n",
    "plt.subplot(1,5,1)\n",
    "plt.ylim([0,25])\n",
    "sns.stripplot(data = df_games, y = 'price', jitter = True, color = '#604e85', )\n",
    "plt.xlabel('Games')\n",
    "\n",
    "plt.subplot(1,5,2)\n",
    "plt.ylim(yrange)\n",
    "sns.stripplot(data = df_edu, y = 'price', jitter = True , color = '#c55292')\n",
    "plt.xlabel('Education')\n",
    "\n",
    "plt.subplot(1,5,3)\n",
    "plt.ylim(yrange)\n",
    "sns.stripplot(data = df_pv, y = 'price', jitter = True, color = '#d053cb')\n",
    "plt.xlabel('Photo & Video')\n",
    "\n",
    "\n",
    "plt.subplot(1,5,4)\n",
    "plt.ylim(yrange)\n",
    "sns.stripplot(data = df_ut, y = 'price', jitter = True, color = '#431e54')\n",
    "plt.xlabel('Utilities')\n",
    "\n",
    "plt.subplot(1,5,5)\n",
    "plt.ylim(yrange)\n",
    "sns.stripplot(data = df_hf, y = 'price', jitter = True, color = '#EF1A78')\n",
    "plt.xlabel('Productivity')\n",
    "\n",
    "\n",
    "plt.show()\n"
   ]
  },
  {
   "cell_type": "markdown",
   "metadata": {
    "_uuid": "6b635da9d09b8b30e8dd61c2e77b66d72f3db08f"
   },
   "source": [
    "# 4 - Do they launch paid apps only in gaming category ?"
   ]
  },
  {
   "cell_type": "markdown",
   "metadata": {
    "_uuid": "a693189a5728414240bf46dd01cf63cd9d8636f2"
   },
   "source": [
    "Tagging lower priced values with \"other\""
   ]
  },
  {
   "cell_type": "code",
   "execution_count": null,
   "metadata": {
    "_uuid": "eb252e74c3f3d93724275b145525dc79fb43b686",
    "collapsed": true
   },
   "outputs": [],
   "source": [
    "l = df.prime_genre.value_counts().index[:4]\n",
    "\n",
    "def catag(x):\n",
    "    if x in l:\n",
    "        return x\n",
    "    else:\n",
    "        return \"Other\"\n",
    "    \n",
    "    \n",
    "apple['broad_genre'] = apple.prime_genre.apply(lambda x: catag(x))"
   ]
  },
  {
   "cell_type": "markdown",
   "metadata": {
    "_uuid": "9c6c3a2ec6a182adfb016be10547346b8b0ee3d1"
   },
   "source": [
    "Calculating the trotal apps by Category, and paid and free apps in those categories respectively"
   ]
  },
  {
   "cell_type": "code",
   "execution_count": null,
   "metadata": {
    "_uuid": "de960d11b9d14b3f944201b009b62043646f6c16",
    "collapsed": true
   },
   "outputs": [],
   "source": [
    "apple.drop(labels = ['broad_genre'], axis = 1)\n",
    "\n",
    "data = pd.DataFrame(apple['broad_genre'].value_counts())\n",
    "\n",
    "data.sort_index()\n",
    "\n",
    "free  = apple[apple['price'] == 0].broad_genre.value_counts().to_frame(name = 'free').sort_index()\n",
    "free"
   ]
  },
  {
   "cell_type": "code",
   "execution_count": null,
   "metadata": {
    "_uuid": "12019fdd3a236d80be10e9cbf3215e9be719f51b",
    "collapsed": true,
    "scrolled": true
   },
   "outputs": [],
   "source": [
    "paid = apple[apple['price']!= 0].broad_genre.value_counts().to_frame(name =  'paid').sort_index()\n",
    "paid"
   ]
  },
  {
   "cell_type": "code",
   "execution_count": null,
   "metadata": {
    "_uuid": "5ac0020f74497d52a8055e461dc2c73460e2f546",
    "collapsed": true,
    "scrolled": true
   },
   "outputs": [],
   "source": [
    "data_price = data.join(free).join(paid)\n",
    "data_price"
   ]
  },
  {
   "cell_type": "code",
   "execution_count": null,
   "metadata": {
    "_uuid": "c7aedeb6f793b3e26a734f85cf896d36f6886dd8",
    "collapsed": true
   },
   "outputs": [],
   "source": [
    "data_price.columns = ['total','free','paid']"
   ]
  },
  {
   "cell_type": "code",
   "execution_count": null,
   "metadata": {
    "_uuid": "5ab0c6fe5ceef843e1455f1196603f408da8cdd4",
    "collapsed": true
   },
   "outputs": [],
   "source": [
    "\n",
    "data_price['free%'] = data_price['free'] * 100/data_price['total']\n",
    "data_price['paid%'] = data_price['paid']*100/data_price['total']\n"
   ]
  },
  {
   "cell_type": "code",
   "execution_count": null,
   "metadata": {
    "_uuid": "94144cfddd01f217484fc15a626db5962f16b0b0",
    "collapsed": true
   },
   "outputs": [],
   "source": []
  },
  {
   "cell_type": "code",
   "execution_count": null,
   "metadata": {
    "_uuid": "50bb0d7ded6587dd6d645f8571c35345417cb654",
    "collapsed": true,
    "scrolled": true
   },
   "outputs": [],
   "source": [
    "data_price"
   ]
  },
  {
   "cell_type": "code",
   "execution_count": null,
   "metadata": {
    "_uuid": "4299c482897457ee5cf2368932eee1b90c1b2346",
    "collapsed": true
   },
   "outputs": [],
   "source": [
    "f = data_price['free'].sort_index()\n",
    "p = data_price['paid'].sort_index()"
   ]
  },
  {
   "cell_type": "code",
   "execution_count": null,
   "metadata": {
    "_uuid": "a3f9b32a0a709aeccbcff4d8a652a892ca9f9b41",
    "collapsed": true
   },
   "outputs": [],
   "source": [
    "df_price = data_price[['free%','paid%']]"
   ]
  },
  {
   "cell_type": "code",
   "execution_count": null,
   "metadata": {
    "_uuid": "e664153a3e93f2d8fc2065a22ae8b528f3d1848f",
    "collapsed": true,
    "scrolled": false
   },
   "outputs": [],
   "source": [
    "\n",
    "plt.figure(figsize =(15,6))\n",
    "free_tuple = tuple(data_price['free%'].tolist())\n",
    "paid_tuple = tuple(data_price['paid%'].tolist())\n",
    "\n",
    "import numpy as np\n",
    "import matplotlib.pyplot as plt\n",
    "\n",
    "\n",
    "\n",
    "N = 5\n",
    "\n",
    "ind = np.arange(N)    # the x locations for the groups\n",
    "width = 0.55      # the width of the bars: can also be len(x) sequence\n",
    "\n",
    "p1 = plt.bar(ind, free_tuple, width,color  ='#5fc497')\n",
    "p2 = plt.bar(ind, paid_tuple, width,\n",
    "             bottom=free_tuple, color = '#44a8c5')\n",
    "\n",
    "plt.ylabel('Percentage')\n",
    "plt.title('Scores by Categories')\n",
    "plt.xticks(ind, ('Games', 'Other', 'Entertainment', 'Education', 'Photo & Video'))\n",
    "plt.legend((p1[0], p2[0]), ('Free', 'Paid'))\n",
    "\n",
    "\n",
    "\n",
    "plt.show()\n",
    "\n",
    "\n"
   ]
  },
  {
   "cell_type": "code",
   "execution_count": null,
   "metadata": {
    "_uuid": "33508db1dca050b0f55976dfd3a5ffb03c34f878",
    "collapsed": true,
    "scrolled": true
   },
   "outputs": [],
   "source": [
    "\n",
    "\n",
    "df_price.T.plot.pie(subplots = True, figsize = (20,4), colors = ['#5fc497','#44a8c5'] )\n",
    "plt.show()"
   ]
  },
  {
   "cell_type": "markdown",
   "metadata": {
    "_uuid": "2a934b79ec1c00aa907cd80d73a414fc8e5a49ce"
   },
   "source": [
    "# Insights\n",
    "   \n",
    "- Education has the lest free apps followed by Photo & Video   "
   ]
  },
  {
   "cell_type": "code",
   "execution_count": null,
   "metadata": {
    "_uuid": "6323360d2e3e1a82147376fce4aabf133fa5c89b",
    "collapsed": true,
    "scrolled": true
   },
   "outputs": [],
   "source": [
    "def check(x):\n",
    "    if(x == 0):\n",
    "        return \"free\"\n",
    "    else:\n",
    "        return \"paid\"\n",
    "\n",
    "apple['Status'] = pd.DataFrame(apple.price.apply(lambda x : check(x)))\n",
    "\n"
   ]
  },
  {
   "cell_type": "markdown",
   "metadata": {
    "_uuid": "a32e29d73d3d84c61717fecc710071d0d12dc662"
   },
   "source": [
    "# 5 - Are paid apps good enough ?"
   ]
  },
  {
   "cell_type": "code",
   "execution_count": null,
   "metadata": {
    "_uuid": "fdb71271f3aee6fd23809d96abc7bc2c410137b0",
    "collapsed": true,
    "scrolled": false
   },
   "outputs": [],
   "source": [
    "\n",
    "plt.figure(figsize = (20,15))\n",
    "plt.ylim(0,5)\n",
    "sns.violinplot(data = apple, y = 'user_rating', x = 'broad_genre', hue = 'Status', split = True, scale = 'count', palette= ['#44a8c5','#5fc497'] )\n",
    "plt.style.use(\"fast\")\n",
    "plt.xlabel('Categories')\n",
    "plt.ylabel('User Rating')\n",
    "plt.title('User Rating Distribution')\n",
    "plt.show()"
   ]
  },
  {
   "cell_type": "markdown",
   "metadata": {
    "_uuid": "70cf9bd80992cfae2f355dbcdc10ee7c96d7e142"
   },
   "source": [
    "# Insights\n",
    "        \n",
    "- For Games and Photo & Video Genres, the median rating of the apps is approximately 4.5, which suggests that they are better"
   ]
  },
  {
   "cell_type": "markdown",
   "metadata": {
    "_uuid": "817d5252015a8ad5715a5a333766f0cd01b5a942"
   },
   "source": [
    "# 6 - As the size of the app increases do they get pricier ?"
   ]
  },
  {
   "cell_type": "code",
   "execution_count": null,
   "metadata": {
    "_uuid": "5f018626884beaa205a972f75d2fb56059d17aba",
    "collapsed": true
   },
   "outputs": [],
   "source": [
    "def size(x):\n",
    "    mb = x/1000000\n",
    "    return mb\n",
    "    \n",
    "apple['size_mb'] = apple.size_bytes.apply(lambda x : size(x))\n",
    "apple.head(5)"
   ]
  },
  {
   "cell_type": "code",
   "execution_count": null,
   "metadata": {
    "_uuid": "f2bbef3588f44c84a9b829d80eedfa70af6c77eb",
    "collapsed": true,
    "scrolled": false
   },
   "outputs": [],
   "source": [
    "plt.figure(figsize = (15,10))\n",
    "paid_apps_desc = apple[apple['price'] <50]\n",
    "sns.lmplot(data = paid_apps_desc, x = 'size_mb', y = 'price', col = 'broad_genre',col_wrap= 3,aspect= 1.5\n",
    "           ,scatter = True,fit_reg = False, hue  = 'broad_genre', legend_out = True, palette = ['#c973d0' , '#8e52b8' , '#4a4f92', '#4a73ab' , '#649ca1'] )\n",
    "\n",
    "\n",
    "\n",
    "plt.show()"
   ]
  },
  {
   "cell_type": "markdown",
   "metadata": {
    "_uuid": "fb2afaaf607c93f48f36123c665cfb757e27f2f2"
   },
   "source": [
    "# Insights\n",
    "- The relation between Price and Genere suggest that there exists no relation between app size and price"
   ]
  },
  {
   "cell_type": "markdown",
   "metadata": {
    "_uuid": "befbed8354339af7eb52812634158ce92bc84b62"
   },
   "source": [
    "# 7- Categorization of Apps based on Genre"
   ]
  },
  {
   "cell_type": "code",
   "execution_count": null,
   "metadata": {
    "_uuid": "11dcc7b4033e73cb9c1c51ada7e4847eeefa0b27",
    "collapsed": true,
    "scrolled": false
   },
   "outputs": [],
   "source": [
    "\n",
    "plt.figure(figsize = (20,20))\n",
    "\n",
    "\n",
    "\n",
    "group_names= apple.broad_genre.value_counts().sort_index().index\n",
    "\n",
    "group_size = apple.broad_genre.value_counts().sort_index().tolist()\n",
    "\n",
    "x = ['Free','Paid']\n",
    "subgroup_names = 5*x\n",
    "subgroup_size = [f[0],p[0],f[1],p[1], f[2],p[2],f[3],p[3],f[4],p[4]]\n",
    "\n",
    "col = ['#5fc497','#44a8c5', '#5fc497','#44a8c5' , '#5fc497','#44a8c5', '#5fc497','#44a8c5', '#5fc497','#44a8c5']\n",
    "\n",
    "# First Ring (outside)\n",
    "fig, ax = plt.subplots()\n",
    "ax.axis('equal')\n",
    "mypie, _ = ax.pie(group_size, radius=2.3, labels=group_names, colors = ['#4a4f92','#8e52b8','#c973d0','#4a73ab','#649ca1']) \n",
    "plt.setp( mypie, width=0.5, edgecolor='white')\n",
    " "
   ]
  },
  {
   "cell_type": "markdown",
   "metadata": {
    "_uuid": "802e078b09f1743c6b3eb6e1e505fb0c44512359"
   },
   "source": [
    "### - Intuition\n",
    "\n",
    "- Games apps were the higest in number followed by Other and Entertainment"
   ]
  },
  {
   "cell_type": "markdown",
   "metadata": {
    "_uuid": "abf01e2241375d317584fbe29dc40c7bbf596af6"
   },
   "source": [
    "# 8 - Categorization of Apps based on Genre with Free and Paid Split"
   ]
  },
  {
   "cell_type": "code",
   "execution_count": null,
   "metadata": {
    "_uuid": "79e7cc595085843e3c5e5fe04fa371c45fab3423",
    "collapsed": true,
    "scrolled": false
   },
   "outputs": [],
   "source": [
    "# First Ring (outside)\n",
    "fig, ax = plt.subplots()\n",
    "ax.axis('equal')\n",
    "mypie, _ = ax.pie(group_size, radius= 2.3, labels=group_names, colors = ['#4a4f92','#8e52b8','#c973d0','#4a73ab','#649ca1']) \n",
    "plt.setp( mypie, width=0.5, edgecolor='white')\n",
    "\n",
    "# Second Ring (Inside)\n",
    "mypie2, _ = ax.pie(subgroup_size, radius=2.3-0.2, labels=subgroup_names, labeldistance=0.8, colors= col)\n",
    "plt.setp( mypie2, width=0.5, edgecolor='white')\n",
    "plt.margins(0,0)\n",
    " \n",
    "# show it\n",
    "plt.show()\n"
   ]
  },
  {
   "cell_type": "markdown",
   "metadata": {
    "_uuid": "28ec1d653a51176ce0e433c1eea1aaab20c3b6e0"
   },
   "source": [
    "### Intuition\n",
    "- Maximum percentage of Free apps were in the Game, Other and Entertainment Genre\n",
    "- Maximum percentage of Paid apps were in the Game, Other and Education Genre"
   ]
  },
  {
   "cell_type": "markdown",
   "metadata": {
    "_uuid": "ab20ec017379a9cc2091c66d860e3eb6a5c14d5d"
   },
   "source": [
    "# 9 - Rating (Upgrade/degrade) based on version update"
   ]
  },
  {
   "cell_type": "code",
   "execution_count": null,
   "metadata": {
    "_uuid": "aaf144461d964826d76f4e28aa8c51dad329c90f",
    "collapsed": true,
    "scrolled": true
   },
   "outputs": [],
   "source": [
    "apple[(apple.user_rating_ver  < apple.user_rating) & (apple.rating_count_ver/apple.rating_count_tot > 0.5)].prime_genre.value_counts()"
   ]
  },
  {
   "cell_type": "code",
   "execution_count": null,
   "metadata": {
    "_uuid": "55796c904a27b1ed72e93647bb5e9e582bd94640",
    "collapsed": true,
    "scrolled": true
   },
   "outputs": [],
   "source": [
    "apple[apple.rating_count_ver/apple.rating_count_tot > 0.5].prime_genre.value_counts()"
   ]
  },
  {
   "cell_type": "markdown",
   "metadata": {
    "_uuid": "3c99842aa8fcc9ef6b7677b2d2c76a17d3a7c91b"
   },
   "source": [
    "# Intuition\n",
    "\n",
    "Though it may seem at firs that that the games category is highly sensisitive to consumer behaviour as the number of applications which appears to have degraded in their new verison were from the Games category, yet when we divide the count of apps by the total apps which cross the 50% threshold, we obseerve that the apps which are most senstitive are  \n",
    "Entertainment\n",
    "Photo & Video\n",
    "and Games"
   ]
  },
  {
   "cell_type": "markdown",
   "metadata": {
    "_uuid": "d288858516e26ae04a6dc3638df1a13d1917e0b3"
   },
   "source": [
    "# Fin!"
   ]
  }
 ],
 "metadata": {
  "kernelspec": {
   "display_name": "Python 3",
   "language": "python",
   "name": "python3"
  },
  "language_info": {
   "codemirror_mode": {
    "name": "ipython",
    "version": 3
   },
   "file_extension": ".py",
   "mimetype": "text/x-python",
   "name": "python",
   "nbconvert_exporter": "python",
   "pygments_lexer": "ipython3",
   "version": "3.7.4"
  }
 },
 "nbformat": 4,
 "nbformat_minor": 1
}
